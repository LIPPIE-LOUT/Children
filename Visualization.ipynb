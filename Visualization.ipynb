{
  "nbformat": 4,
  "nbformat_minor": 0,
  "metadata": {
    "colab": {
      "provenance": [],
      "authorship_tag": "ABX9TyPGHJuInQJgn/1YZh7XtOpH",
      "include_colab_link": true
    },
    "kernelspec": {
      "name": "python3",
      "display_name": "Python 3"
    },
    "language_info": {
      "name": "python"
    }
  },
  "cells": [
    {
      "cell_type": "markdown",
      "metadata": {
        "id": "view-in-github",
        "colab_type": "text"
      },
      "source": [
        "<a href=\"https://colab.research.google.com/github/LIPPIE-LOUT/Children/blob/master/Visualization.ipynb\" target=\"_parent\"><img src=\"https://colab.research.google.com/assets/colab-badge.svg\" alt=\"Open In Colab\"/></a>"
      ]
    },
    {
      "cell_type": "markdown",
      "source": [
        "#Python librariesfor visualization\n",
        "\n",
        "1. Matplotlib\n",
        "- Is the mother of viusalization in python\n",
        "- Built from a language called matlab which is a statistical language\n",
        "\n",
        "2. Seaborn\n",
        "- It is a library that offers better customization of visualizations that give them a better aesthestic and visual appeal\n",
        "\n",
        "3. Plotly\n",
        "- It is a library that introduces an aspect of interaction with visualizations."
      ],
      "metadata": {
        "id": "8GWJQ4r7Ac7x"
      }
    },
    {
      "cell_type": "markdown",
      "source": [
        "1.Bar charts\n",
        "- uses bars,(columns) to compare discrete categories of data.The bars can either be horizontal{LEFT TO RIGHT} or vertical{BoTTOM TO TOP}\n",
        "\n",
        "Best for:\n",
        "- Comparing values across categories\n",
        "- Displaying part_to_whole relationship in data\n",
        "\n",
        "eg. sales per region, population by age group\n",
        "\n",
        "2.Line chart\n",
        "- Plots data points along a continuos line, often used to show trend over time.\n",
        "\n",
        "Best for\n",
        "- Time series analysis (e.g stock prices)\n",
        "- Showing trends,patterns and changes or intervals\n",
        "\n",
        "3. Pie charts\n",
        "- Circular chart divided into slices to show propotions of a whole\n",
        "\n",
        "Best for:\n",
        "- Showing percentages or proportional data for a small number of categories(max=5)\n",
        "\n",
        "4. Scatter plot\n",
        "- This plot points om the x-y axis to show relationship between two variables."
      ],
      "metadata": {
        "id": "_qeUu0l6CluV"
      }
    },
    {
      "cell_type": "code",
      "execution_count": null,
      "metadata": {
        "id": "0nE4chqb8XwE"
      },
      "outputs": [],
      "source": []
    }
  ]
}